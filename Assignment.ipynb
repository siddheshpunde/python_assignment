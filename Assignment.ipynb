{
  "nbformat": 4,
  "nbformat_minor": 0,
  "metadata": {
    "colab": {
      "provenance": []
    },
    "kernelspec": {
      "name": "python3",
      "display_name": "Python 3"
    },
    "language_info": {
      "name": "python"
    }
  },
  "cells": [
    {
      "cell_type": "markdown",
      "source": [
        "Write a python program that prints the numbers from 1 to 100. But for multiples of seven, print \"Fizz\" instead of the number, and for the multiples of three, print \"Buzz\". For numbers which are multiples of both three and seven, print \"FizzBuzz\"."
      ],
      "metadata": {
        "id": "fKpdY0NrJ815"
      }
    },
    {
      "cell_type": "code",
      "execution_count": 3,
      "metadata": {
        "colab": {
          "base_uri": "https://localhost:8080/"
        },
        "id": "sehmQdaCJ69y",
        "outputId": "5166ea9e-5dd9-4cfe-b899-299d30142ca2"
      },
      "outputs": [
        {
          "output_type": "stream",
          "name": "stdout",
          "text": [
            "1\n",
            "2\n",
            "Fizz\n",
            "4\n",
            "5\n",
            "Fizz\n",
            "Buzz\n",
            "8\n",
            "Fizz\n",
            "10\n",
            "11\n",
            "Fizz\n",
            "13\n",
            "Buzz\n",
            "Fizz\n",
            "16\n",
            "17\n",
            "Fizz\n",
            "19\n",
            "20\n",
            "FizzBuzz\n",
            "22\n",
            "23\n",
            "Fizz\n",
            "25\n",
            "26\n",
            "Fizz\n",
            "Buzz\n",
            "29\n",
            "Fizz\n",
            "31\n",
            "32\n",
            "Fizz\n",
            "34\n",
            "Buzz\n",
            "Fizz\n",
            "37\n",
            "38\n",
            "Fizz\n",
            "40\n",
            "41\n",
            "FizzBuzz\n",
            "43\n",
            "44\n",
            "Fizz\n",
            "46\n",
            "47\n",
            "Fizz\n",
            "Buzz\n",
            "50\n",
            "Fizz\n",
            "52\n",
            "53\n",
            "Fizz\n",
            "55\n",
            "Buzz\n",
            "Fizz\n",
            "58\n",
            "59\n",
            "Fizz\n",
            "61\n",
            "62\n",
            "FizzBuzz\n",
            "64\n",
            "65\n",
            "Fizz\n",
            "67\n",
            "68\n",
            "Fizz\n",
            "Buzz\n",
            "71\n",
            "Fizz\n",
            "73\n",
            "74\n",
            "Fizz\n",
            "76\n",
            "Buzz\n",
            "Fizz\n",
            "79\n",
            "80\n",
            "Fizz\n",
            "82\n",
            "83\n",
            "FizzBuzz\n",
            "85\n",
            "86\n",
            "Fizz\n",
            "88\n",
            "89\n",
            "Fizz\n",
            "Buzz\n",
            "92\n",
            "Fizz\n",
            "94\n",
            "95\n",
            "Fizz\n",
            "97\n",
            "Buzz\n",
            "Fizz\n",
            "100\n"
          ]
        }
      ],
      "source": [
        "for i in range(1,101):\n",
        "  if i%3==0 and i%7==0:\n",
        "    print(\"FizzBuzz\")\n",
        "  elif i%3==0:\n",
        "    print(\"Fizz\")\n",
        "  elif i%7==0:\n",
        "    print(\"Buzz\")\n",
        "  else:\n",
        "    print(i)"
      ]
    },
    {
      "cell_type": "code",
      "source": [],
      "metadata": {
        "id": "M-WaJ4hxKFvI"
      },
      "execution_count": null,
      "outputs": []
    }
  ]
}